{
 "cells": [
  {
   "cell_type": "markdown",
   "id": "75dba511",
   "metadata": {},
   "source": [
    "# Tutorial for Introduction to ML Lecture\n",
    "\n",
    "version 0.1, September 2023\n",
    "\n",
    "Bryan Scott, CIERA/Northwestern"
   ]
  },
  {
   "cell_type": "markdown",
   "id": "c73c6b0f",
   "metadata": {},
   "source": [
    "## Problem 1: Bayes Classifiers"
   ]
  },
  {
   "cell_type": "markdown",
   "id": "07842041",
   "metadata": {},
   "source": [
    "A good starting point for Machine Learning is the Bayes classifier. The basic idea is to assign the most probable label to each data point using Bayes theorem, we take:\n",
    "\n",
    "$$\n",
    "p(y | x_n) \\propto p(y)p(x_i, ..., x_n | y)\n",
    "$$\n",
    "\n",
    "where y is a label for a data point and the $x_n$ are the features of the data that we want to use to classify each data point. A $\\textit{Naive} Bayes$ classifier makes an important simplifying assumptions that gives it the name - it assumes that the conditional probabilities are independent, $p(x_i, ..., x_n | y) = p(x_i|y)... p(x_n | y)$. That is, the probability of observing any individual feature doesn't depend on any of the other features. Our task is to construct this classifier from a set of examples we've observed previously and compare it to new data. "
   ]
  },
  {
   "cell_type": "markdown",
   "id": "40084db8",
   "metadata": {},
   "source": [
    "### Part 0: Load and split the data"
   ]
  },
  {
   "cell_type": "code",
   "execution_count": 1,
   "id": "5a1d0a57",
   "metadata": {},
   "outputs": [],
   "source": [
    "# import pandas as pd\n",
    "from astropy.io import ascii\n",
    "from astropy.table import Table\n",
    "import numpy as np\n",
    "from scipy.stats import norm\n",
    "import matplotlib.pyplot as plt"
   ]
  },
  {
   "cell_type": "code",
   "execution_count": 2,
   "id": "e543f3b7",
   "metadata": {},
   "outputs": [],
   "source": [
    "# lsst_data[0:1000].to_csv('session_19_DC2_subset.csv')"
   ]
  },
  {
   "cell_type": "markdown",
   "id": "3c682ccc",
   "metadata": {},
   "source": [
    "### Loading and splitting the data. \n",
    "\n",
    "Read in the data, then start by selecting the id, fluxes, and object truth type in the lsst data file you've been provided. \n",
    "\n",
    "Once you have selected those, randomly split the data into two arrays, one containing 80% of the data, and a second array containing 20% of the data. "
   ]
  },
  {
   "cell_type": "code",
   "execution_count": 3,
   "id": "94094b3b",
   "metadata": {},
   "outputs": [],
   "source": [
    "lsst_data = ascii.read(\n",
    "    '/home/vwetzell/git_repos/Session-19-vwetzell/day1/simulated_extragalactic_data.csv',\n",
    "    data_start=1,\n",
    "    format='csv'\n",
    ") \n",
    "\n",
    "lsst_data = Table(lsst_data)\n",
    "\n",
    "lsst_data_to_classify = lsst_data[['id',\n",
    "                                  'flux_u',\n",
    "                                 'flux_g',\n",
    "                                 'flux_r',\n",
    "                                 'flux_i',\n",
    "                                 'flux_z',\n",
    "                                 'flux_y',\n",
    "                                 'truth_type']]\n",
    "\n",
    "lsst_data_to_classify = lsst_data_to_classify[lsst_data_to_classify['flux_u']!=0]\n",
    "\n",
    "random_id = np.random.choice(np.arange(len(lsst_data_to_classify)),\n",
    "                             replace=False,\n",
    "                             size=len(lsst_data_to_classify))\n",
    "random_data = lsst_data_to_classify[random_id]\n",
    "\n",
    "train_data = random_data[:799]\n",
    "test_data = random_data[-199:]"
   ]
  },
  {
   "cell_type": "code",
   "execution_count": 4,
   "id": "5fc19b23",
   "metadata": {},
   "outputs": [
    {
     "data": {
      "text/html": [
       "&lt;Column name=&apos;truth_type&apos; dtype=&apos;int64&apos; length=2&gt;\n",
       "<table>\n",
       "<tr><td>1</td></tr>\n",
       "<tr><td>2</td></tr>\n",
       "</table>"
      ],
      "text/plain": [
       "<Column name='truth_type' dtype='int64' length=2>\n",
       "1\n",
       "2"
      ]
     },
     "execution_count": 4,
     "metadata": {},
     "output_type": "execute_result"
    }
   ],
   "source": [
    "np.unique(train_data['truth_type'])"
   ]
  },
  {
   "cell_type": "markdown",
   "id": "99f2de21",
   "metadata": {},
   "source": [
    "### Part 1: Estimate Class Frequency in the training set\n",
    "\n",
    "One of the ingredients in our classifier is p(y), the unconditional class probabilities. \n",
    "\n",
    "We can get this by counting the number of rows belonging to each class in train_data and dividing by the length of the training data set. "
   ]
  },
  {
   "cell_type": "code",
   "execution_count": 5,
   "id": "0186b8f1",
   "metadata": {},
   "outputs": [],
   "source": [
    "def estimate_class_probabilities(test_data):\n",
    "    \"\"\"\n",
    "    Computes unconditional class probabilities. \n",
    "     \n",
    "    Args:\n",
    "        x_train (array): training data for the classifier\n",
    " \n",
    "    Returns:\n",
    "        ints p1, p2: unconditional probability of an element of the training set belonging to class 1\n",
    "    \"\"\"\n",
    "    \n",
    "    p1 = np.sum(train_data['truth_type']==1)/len(train_data)\n",
    "    p2 = np.sum(train_data['truth_type']==2)/len(train_data)\n",
    "    return p1, p2\n",
    "\n",
    "p1, p2 = estimate_class_probabilities(train_data)"
   ]
  },
  {
   "cell_type": "code",
   "execution_count": 6,
   "id": "e82bccad",
   "metadata": {},
   "outputs": [
    {
     "data": {
      "text/plain": [
       "(0.8347934918648311, 0.16520650813516896)"
      ]
     },
     "execution_count": 6,
     "metadata": {},
     "output_type": "execute_result"
    }
   ],
   "source": [
    "estimate_class_probabilities(test_data)"
   ]
  },
  {
   "cell_type": "markdown",
   "id": "ca1aa268",
   "metadata": {},
   "source": [
    "### Part 2:  Feature Likelihoods\n",
    "\n",
    "We are assuming that the relationship between the classes and feature probabilities are related via:\n",
    "\n",
    "$p(x_i, ..., x_n | y) =  p(x_i|y)... p(x_n | y)$\n",
    "\n",
    "however, we still need to make an assumption about the functional form of the $p(x_i | y)$. As a simple case, we will assume $p(x_i | y)$ follows a Gaussian distribution given by:\n",
    "\n",
    "$$\n",
    "p(x_i | y) = \\frac{1}{\\sqrt{2 \\pi \\sigma_y}} \\exp{\\left(-\\frac{(x_i - \\mu)^2}{\\sigma_y^2}\\right)}\n",
    "$$\n",
    "\n",
    "and we will make a maximum likelihood estimate of $\\mu$ and $\\sigma_y$ from the data. This means using empirical estimates $\\bar{x}$ and $\\hat{\\sigma}$ as estimators of the true parameters $\\mu$ and $\\sigma_y$. \n",
    "\n",
    "Write a fitting function that takes the log of the fluxes and returns an estimate of the parameters of the per-feature likelihoods for each class."
   ]
  },
  {
   "cell_type": "code",
   "execution_count": 36,
   "id": "609b65b7",
   "metadata": {},
   "outputs": [],
   "source": [
    "def per_feature_likelihood_parameters(x_train, label, bands):\n",
    "    \"\"\"\"\n",
    "    Computes MAP estimates for the class conditional likelihood. \n",
    "     \n",
    "    Args:\n",
    "        x_train (array or pd series): training data for the classifier\n",
    "        label (int): training labels for the classifier \n",
    " \n",
    "    Returns:\n",
    "        means, stdevs (array): MAP estimates of the Gaussian conditional probability distributions for a specific class\n",
    "    \"\"\"\n",
    "    \n",
    "    means = np.zeros((2,len(bands)))\n",
    "    stdevs = np.zeros((2,len(bands)))\n",
    "    \n",
    "    for i,band in enumerate(bands):\n",
    "        logx_train = np.log(x_train[band])\n",
    "\n",
    "        band_means = np.array([np.mean(logx_train[label==1]),np.mean(logx_train[label==2])])\n",
    "#         band_stdevs =  np.array([np.std(logx_train[label==1]),np.std(logx_train[label==2])])\n",
    "        \n",
    "        means[:,i] = band_means\n",
    "#         stdevs[:,i] = band_stdevs\n",
    "    \n",
    "    \n",
    "    cov = np.array([np.cov([train_data[train_data['truth_type']==1][band] for band in bands]),\n",
    "                    np.cov([train_data[train_data['truth_type']==2][band] for band in bands])])\n",
    "    \n",
    "    return means, cov\n"
   ]
  },
  {
   "cell_type": "code",
   "execution_count": 37,
   "id": "bf71a804",
   "metadata": {},
   "outputs": [],
   "source": [
    "\n",
    "bands = ['flux_u','flux_g','flux_r','flux_i','flux_z','flux_y']\n",
    "\n",
    "means,cov = per_feature_likelihood_parameters(train_data,train_data['truth_type'],bands)\n",
    "\n"
   ]
  },
  {
   "cell_type": "code",
   "execution_count": 42,
   "id": "c405d18a",
   "metadata": {},
   "outputs": [
    {
     "data": {
      "image/png": "[encoded data removed]",
      "text/plain": [
       "<Figure size 640x480 with 2 Axes>"
      ]
     },
     "metadata": {},
     "output_type": "display_data"
    },
    {
     "data": {
      "image/png": "[encoded data removed]",
      "text/plain": [
       "<Figure size 640x480 with 2 Axes>"
      ]
     },
     "metadata": {},
     "output_type": "display_data"
    }
   ],
   "source": [
    "corr = np.zeros_like(cov[0])\n",
    "\n",
    "for i in range(6):\n",
    "    for j in range(6):\n",
    "        corr[i,j] = cov[0][i,j]/np.sqrt(cov[0][i,i]*cov[0][j,j])\n",
    "\n",
    "plt.figure()\n",
    "plt.imshow(corr)\n",
    "plt.colorbar()\n",
    "plt.show()\n",
    "\n",
    "corr = np.zeros_like(cov[1])\n",
    "\n",
    "for i in range(6):\n",
    "    for j in range(6):\n",
    "        corr[i,j] = cov[1][i,j]/np.sqrt(cov[1][i,i]*cov[1][j,j])\n",
    "\n",
    "plt.figure()\n",
    "plt.imshow(corr)\n",
    "plt.colorbar()\n",
    "plt.show()"
   ]
  },
  {
   "cell_type": "markdown",
   "id": "16dbeb61",
   "metadata": {},
   "source": [
    "### Part 3: MAP Estimates of the Class Probabilities\n",
    "\n",
    "Now that we have the unconditional class probabilities and the parameters of the per feature likelihoods in hand, we can put this all together to build the classifier. Use the methods you have already written to write a function that takes in the training data and returns fit parameters. Once you have done that, write a method that takes the fit parameters as an argument and predicts the class of new (and unseen) data. "
   ]
  },
  {
   "cell_type": "code",
   "execution_count": 43,
   "id": "05a17f4d",
   "metadata": {},
   "outputs": [],
   "source": [
    "# build the classifier\n",
    "\n",
    "# solved \n",
    "\n",
    "def fit(x_train):\n",
    "    \"\"\"\"\n",
    "    Convenience function to perform fitting on the training data\n",
    "     \n",
    "    Args:\n",
    "        x_train (array or pd series): training data for the classifier\n",
    " \n",
    "    Returns:\n",
    "        p1, p2, class_1_mean, class_2_mean, class_1_std, class_2_std: see documentation for per_feature_likelihood_parameters\n",
    "    \"\"\"\n",
    "    \n",
    "    p1,p2 = estimate_class_probabilities(x_train)\n",
    "    \n",
    "    means,cov = per_feature_likelihood_parameters(train_data,train_data['truth_type'],bands)\n",
    "    \n",
    "    class_1_mean = means[0,:]\n",
    "    \n",
    "    class_2_mean = means[1,:]\n",
    "    \n",
    "    return p1, p2, class_1_mean, class_2_mean, cov\n",
    "\n"
   ]
  },
  {
   "cell_type": "code",
   "execution_count": 46,
   "id": "4545bda1",
   "metadata": {},
   "outputs": [
    {
     "data": {
      "text/plain": [
       "array([[1.84638154e-03, 1.08553490e-03, 6.00314921e-04, 4.52556225e-04,\n",
       "        3.89331707e-04, 3.52273727e-04],\n",
       "       [1.08553490e-03, 4.87691278e-04, 2.51996318e-04, 1.89493793e-04,\n",
       "        1.62672734e-04, 1.46959007e-04],\n",
       "       [6.00314921e-04, 2.51996318e-04, 1.28697136e-04, 9.67231550e-05,\n",
       "        8.30100396e-05, 7.49683566e-05],\n",
       "       [4.52556225e-04, 1.89493793e-04, 9.67231550e-05, 7.26577474e-05,\n",
       "        6.23502243e-05, 5.63097132e-05],\n",
       "       [3.89331707e-04, 1.62672734e-04, 8.30100396e-05, 6.23502243e-05,\n",
       "        5.34856991e-05, 4.83035251e-05],\n",
       "       [3.52273727e-04, 1.46959007e-04, 7.49683566e-05, 5.63097132e-05,\n",
       "        4.83035251e-05, 4.36174467e-05]])"
      ]
     },
     "execution_count": 46,
     "metadata": {},
     "output_type": "execute_result"
    }
   ],
   "source": [
    "p1, p2, class_1_mean, class_2_mean, cov = fit(train_data)\n",
    "\n",
    "(1/np.sqrt(2*np.pi*cov[0]))\n",
    "\n"
   ]
  },
  {
   "cell_type": "code",
   "execution_count": 76,
   "id": "01867cba",
   "metadata": {},
   "outputs": [],
   "source": [
    "\n",
    "def predict(x_test, class_probability, class_1_means, class_2_means, cov):\n",
    "    \"\"\"\"\n",
    "    Predict method\n",
    "     \n",
    "    Args:\n",
    "        x_test (array): data to perform classification on\n",
    "        class_probability (array): unconditional class probabilities\n",
    "        class_means, class_dev (array): MAP estimates produced by the fit method\n",
    " \n",
    "    Returns:\n",
    "        predict_List (list): class membership predictions\n",
    "    \"\"\"\n",
    "    \n",
    "    pop1 = (\n",
    "        class_probability \n",
    "        * (1/np.sqrt(2*np.pi*np.linalg.det(cov[0]))) \n",
    "        * np.exp(\n",
    "            -np.einsum(\n",
    "                'ik,ij,jk->k',\n",
    "                (x_test-means[0][:,np.newaxis]),\n",
    "                np.linalg.inv(cov[0]),\n",
    "                (x_test-means[0][:,np.newaxis])\n",
    "            )\n",
    "        )\n",
    "    )\n",
    "    \n",
    "    pop2 = (\n",
    "        (1-class_probability) \n",
    "        * (1/np.sqrt(2*np.pi*np.linalg.det(cov[1]))) \n",
    "        * np.exp(\n",
    "            -np.einsum(\n",
    "                'ik,ij,jk->k',\n",
    "                (x_test-means[1][:,np.newaxis]),\n",
    "                np.linalg.inv(cov[1]),\n",
    "                (x_test-means[1][:,np.newaxis])\n",
    "            )\n",
    "        )\n",
    "    )\n",
    "    \n",
    "    \n",
    "    predict_list = np.divide(pop1, (pop1 + pop2),out=np.zeros_like(pop1),where=(pop1 + pop2)!=0)\n",
    "    \n",
    "    return predict_list"
   ]
  },
  {
   "cell_type": "code",
   "execution_count": 78,
   "id": "040d58b2",
   "metadata": {},
   "outputs": [],
   "source": [
    "x_test = np.array([test_data[band] for band in bands])\n",
    "\n",
    "pred = predict(x_test,p1,class_1_mean,class_2_mean,cov)"
   ]
  },
  {
   "cell_type": "code",
   "execution_count": 80,
   "id": "1b654c6f",
   "metadata": {},
   "outputs": [
    {
     "data": {
      "text/plain": [
       "160"
      ]
     },
     "execution_count": 80,
     "metadata": {},
     "output_type": "execute_result"
    }
   ],
   "source": [
    "np.sum(test_data['truth_type']==1)"
   ]
  },
  {
   "cell_type": "code",
   "execution_count": 81,
   "id": "fdbba6fb",
   "metadata": {},
   "outputs": [
    {
     "data": {
      "text/plain": [
       "172"
      ]
     },
     "execution_count": 81,
     "metadata": {},
     "output_type": "execute_result"
    }
   ],
   "source": [
    "np.sum(pred>=0.5)"
   ]
  },
  {
   "cell_type": "markdown",
   "id": "8067d9e3",
   "metadata": {},
   "source": [
    "### Part 4: Metrics\n",
    "\n",
    "After creating a classifier, you now want to evaluate it in terms of how often it correctly and incorrectly classifies the objects in your training set. To do this, we'll design a confusion matrix. A confusion matrix is a matrix whose entries are the counts of the predicted vs actual class. For example, the first entry is the count of objects that are predicted to be of class 1 and actually are of class 1 and so on, while the off-diagonal elements would be instances of class 1 that are predicted to be of class 2, and instances of class 2 that are predicted to be of class 1. "
   ]
  },
  {
   "cell_type": "code",
   "execution_count": 37,
   "id": "a366c561",
   "metadata": {},
   "outputs": [],
   "source": [
    "def plot_confusion_matrix(df_confusion, cmap=):\n",
    "    \"\"\"\n",
    "    \n",
    "    Convenience function to plot the confusion matrix from a pd.crosstab object. Hint: use plt.matshow and choose a sensible color map.\n",
    "    \n",
    "    Args:\n",
    "        df_confusion (pd.crosstab): A pd.crosstab object.\n",
    "        \n",
    "    Returns:\n",
    "        null \n",
    "    \"\"\"\n",
    "    \n",
    "    \n",
    "    plt.matshow()\n"
   ]
  },
  {
   "cell_type": "markdown",
   "id": "cb4c8763",
   "metadata": {},
   "source": [
    "## Problem 2: The Cramer-Rao bound (pen & paper, challenging, optional)\n",
    "\n",
    "As we saw in the lecture, the Cramer-Rao bound is an important result in statistics that has intuitive consequences for many applied problems in ML. The proof of the Cramer-Rao bound can be insightful to work through. \n",
    "\n",
    "The starting point for the proof of the bound is the Cauchy-Schwarz inequality, which can be used to show that:\n",
    "\n",
    "$$\n",
    "[Cov(U, V)]^2 \\le Var(U)Var(V)\n",
    "$$\n",
    "\n",
    "Starting from the definitions that U = T(X), where T(X) is an estimator of some parameter $\\theta$ of the distribution $f(X|\\theta)$ from which the data is sampled, and V = $\\frac{\\partial}{\\partial \\theta} log f(X |\\theta)$. Use the Cauchy-Schwarz inequality to show the Cramer-Rao bound for these choices of U and V. \n",
    "\n",
    "$\\textit{Hint:}$ you will need the fact that the $\\mathbb{E}(V) = 0$, where $\\mathbb{E}$ is the expectation of a random variable."
   ]
  },
  {
   "cell_type": "code",
   "execution_count": null,
   "id": "e1432f12",
   "metadata": {},
   "outputs": [],
   "source": []
  }
 ],
 "metadata": {
  "kernelspec": {
   "display_name": "Python 3 (ipykernel)",
   "language": "python",
   "name": "python3"
  },
  "language_info": {
   "codemirror_mode": {
    "name": "ipython",
    "version": 3
   },
   "file_extension": ".py",
   "mimetype": "text/x-python",
   "name": "python",
   "nbconvert_exporter": "python",
   "pygments_lexer": "ipython3",
   "version": "3.10.12"
  }
 },
 "nbformat": 4,
 "nbformat_minor": 5
}
